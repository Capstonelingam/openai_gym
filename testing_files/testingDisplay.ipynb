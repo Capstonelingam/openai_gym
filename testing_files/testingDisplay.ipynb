{
 "cells": [
  {
   "cell_type": "code",
   "execution_count": 1,
   "metadata": {},
   "outputs": [],
   "source": [
    "policy=\"\""
   ]
  },
  {
   "cell_type": "code",
   "execution_count": 1,
   "metadata": {},
   "outputs": [
    {
     "name": "stdout",
     "output_type": "stream",
     "text": [
      "Starting rendering, check `server_ip:5000`.\n",
      " * Serving Flask app 'render_browser.render'\n",
      " * Debug mode: off\n"
     ]
    },
    {
     "name": "stderr",
     "output_type": "stream",
     "text": [
      "\u001b[31m\u001b[1mWARNING: This is a development server. Do not use it in a production deployment. Use a production WSGI server instead.\u001b[0m\n",
      " * Running on all addresses (0.0.0.0)\n",
      " * Running on http://127.0.0.1:5000\n",
      " * Running on http://45.112.149.250:5000\n",
      "\u001b[33mPress CTRL+C to quit\u001b[0m\n",
      "117.215.169.107 - - [30/Nov/2023 04:28:25] \"GET / HTTP/1.1\" 200 -\n",
      "117.215.169.107 - - [30/Nov/2023 04:28:25] \"GET /render_feed HTTP/1.1\" 200 -\n"
     ]
    },
    {
     "ename": "AssertionError",
     "evalue": "View function mapping is overwriting an existing endpoint function: render_feed",
     "output_type": "error",
     "traceback": [
      "\u001b[0;31m---------------------------------------------------------------------------\u001b[0m",
      "\u001b[0;31mAssertionError\u001b[0m                            Traceback (most recent call last)",
      "\u001b[1;32m/home/slv/openai_gym/testing_files/testingDisplay.ipynb Cell 2\u001b[0m line \u001b[0;36m2\n\u001b[1;32m     <a href='vscode-notebook-cell://ssh-remote%2B45.112.149.250/home/slv/openai_gym/testing_files/testingDisplay.ipynb#W1sdnNjb2RlLXJlbW90ZQ%3D%3D?line=18'>19</a>\u001b[0m policy \u001b[39m=\u001b[39m \u001b[39m\"\u001b[39m\u001b[39m\"\u001b[39m\n\u001b[1;32m     <a href='vscode-notebook-cell://ssh-remote%2B45.112.149.250/home/slv/openai_gym/testing_files/testingDisplay.ipynb#W1sdnNjb2RlLXJlbW90ZQ%3D%3D?line=19'>20</a>\u001b[0m test_policy()\n\u001b[0;32m---> <a href='vscode-notebook-cell://ssh-remote%2B45.112.149.250/home/slv/openai_gym/testing_files/testingDisplay.ipynb#W1sdnNjb2RlLXJlbW90ZQ%3D%3D?line=21'>22</a>\u001b[0m test_policy(policy)    \n",
      "File \u001b[0;32m~/anaconda3/envs/rl/lib/python3.10/site-packages/render_browser/render.py:27\u001b[0m, in \u001b[0;36mrender_browser.<locals>.wrapper\u001b[0;34m(*args, **kwargs)\u001b[0m\n\u001b[1;32m     25\u001b[0m \u001b[39mdef\u001b[39;00m \u001b[39mwrapper\u001b[39m(\u001b[39m*\u001b[39margs, \u001b[39m*\u001b[39m\u001b[39m*\u001b[39mkwargs):\n\u001b[1;32m     26\u001b[0m     \u001b[39m@app\u001b[39;49m\u001b[39m.\u001b[39;49mroute(\u001b[39m'\u001b[39;49m\u001b[39m/render_feed\u001b[39;49m\u001b[39m'\u001b[39;49m)\n\u001b[0;32m---> 27\u001b[0m     \u001b[39mdef\u001b[39;49;00m \u001b[39mrender_feed\u001b[39;49m():\n\u001b[1;32m     28\u001b[0m         \u001b[39mreturn\u001b[39;49;00m Response(frame_gen(env_func, \u001b[39m*\u001b[39;49margs, \u001b[39m*\u001b[39;49m\u001b[39m*\u001b[39;49mkwargs), mimetype\u001b[39m=\u001b[39;49m\u001b[39m'\u001b[39;49m\u001b[39mmultipart/x-mixed-replace; boundary=frame\u001b[39;49m\u001b[39m'\u001b[39;49m)\n\u001b[1;32m     30\u001b[0m     \u001b[39mprint\u001b[39m(\u001b[39m\"\u001b[39m\u001b[39mStarting rendering, check `server_ip:5000`.\u001b[39m\u001b[39m\"\u001b[39m)\n",
      "File \u001b[0;32m~/anaconda3/envs/rl/lib/python3.10/site-packages/flask/sansio/scaffold.py:364\u001b[0m, in \u001b[0;36mScaffold.route.<locals>.decorator\u001b[0;34m(f)\u001b[0m\n\u001b[1;32m    362\u001b[0m \u001b[39mdef\u001b[39;00m \u001b[39mdecorator\u001b[39m(f: T_route) \u001b[39m-\u001b[39m\u001b[39m>\u001b[39m T_route:\n\u001b[1;32m    363\u001b[0m     endpoint \u001b[39m=\u001b[39m options\u001b[39m.\u001b[39mpop(\u001b[39m\"\u001b[39m\u001b[39mendpoint\u001b[39m\u001b[39m\"\u001b[39m, \u001b[39mNone\u001b[39;00m)\n\u001b[0;32m--> 364\u001b[0m     \u001b[39mself\u001b[39;49m\u001b[39m.\u001b[39;49madd_url_rule(rule, endpoint, f, \u001b[39m*\u001b[39;49m\u001b[39m*\u001b[39;49moptions)\n\u001b[1;32m    365\u001b[0m     \u001b[39mreturn\u001b[39;00m f\n",
      "File \u001b[0;32m~/anaconda3/envs/rl/lib/python3.10/site-packages/flask/sansio/scaffold.py:44\u001b[0m, in \u001b[0;36msetupmethod.<locals>.wrapper_func\u001b[0;34m(self, *args, **kwargs)\u001b[0m\n\u001b[1;32m     42\u001b[0m \u001b[39mdef\u001b[39;00m \u001b[39mwrapper_func\u001b[39m(\u001b[39mself\u001b[39m, \u001b[39m*\u001b[39margs: t\u001b[39m.\u001b[39mAny, \u001b[39m*\u001b[39m\u001b[39m*\u001b[39mkwargs: t\u001b[39m.\u001b[39mAny) \u001b[39m-\u001b[39m\u001b[39m>\u001b[39m t\u001b[39m.\u001b[39mAny:\n\u001b[1;32m     43\u001b[0m     \u001b[39mself\u001b[39m\u001b[39m.\u001b[39m_check_setup_finished(f_name)\n\u001b[0;32m---> 44\u001b[0m     \u001b[39mreturn\u001b[39;00m f(\u001b[39mself\u001b[39;49m, \u001b[39m*\u001b[39;49margs, \u001b[39m*\u001b[39;49m\u001b[39m*\u001b[39;49mkwargs)\n",
      "File \u001b[0;32m~/anaconda3/envs/rl/lib/python3.10/site-packages/flask/sansio/app.py:659\u001b[0m, in \u001b[0;36mApp.add_url_rule\u001b[0;34m(self, rule, endpoint, view_func, provide_automatic_options, **options)\u001b[0m\n\u001b[1;32m    657\u001b[0m old_func \u001b[39m=\u001b[39m \u001b[39mself\u001b[39m\u001b[39m.\u001b[39mview_functions\u001b[39m.\u001b[39mget(endpoint)\n\u001b[1;32m    658\u001b[0m \u001b[39mif\u001b[39;00m old_func \u001b[39mis\u001b[39;00m \u001b[39mnot\u001b[39;00m \u001b[39mNone\u001b[39;00m \u001b[39mand\u001b[39;00m old_func \u001b[39m!=\u001b[39m view_func:\n\u001b[0;32m--> 659\u001b[0m     \u001b[39mraise\u001b[39;00m \u001b[39mAssertionError\u001b[39;00m(\n\u001b[1;32m    660\u001b[0m         \u001b[39m\"\u001b[39m\u001b[39mView function mapping is overwriting an existing\u001b[39m\u001b[39m\"\u001b[39m\n\u001b[1;32m    661\u001b[0m         \u001b[39mf\u001b[39m\u001b[39m\"\u001b[39m\u001b[39m endpoint function: \u001b[39m\u001b[39m{\u001b[39;00mendpoint\u001b[39m}\u001b[39;00m\u001b[39m\"\u001b[39m\n\u001b[1;32m    662\u001b[0m     )\n\u001b[1;32m    663\u001b[0m \u001b[39mself\u001b[39m\u001b[39m.\u001b[39mview_functions[endpoint] \u001b[39m=\u001b[39m view_func\n",
      "\u001b[0;31mAssertionError\u001b[0m: View function mapping is overwriting an existing endpoint function: render_feed"
     ]
    }
   ],
   "source": [
    "import gym\n",
    "from render_browser import render_browser\n",
    "from time import sleep\n",
    "@render_browser\n",
    "def test_policy():\n",
    "    env = gym.make('LunarLander-v2',render_mode = \"rgb_array\")\n",
    "    obs = env.reset()\n",
    "\n",
    "\n",
    "\n",
    "    while True:\n",
    "        yield env.render()\n",
    "        env.step(env.action_space.sample())\n",
    "        sleep(2)\n",
    "        break\n",
    "    env.close()\n",
    "\n",
    "\n",
    "policy = \"\"\n",
    "test_policy()\n",
    "\n",
    "test_policy(policy)    "
   ]
  },
  {
   "cell_type": "code",
   "execution_count": 15,
   "metadata": {},
   "outputs": [
    {
     "name": "stderr",
     "output_type": "stream",
     "text": [
      "/home/slv/anaconda3/envs/openai/lib/python3.12/site-packages/gym/envs/registration.py:555: UserWarning: \u001b[33mWARN: The environment CartPole-v0 is out of date. You should consider upgrading to version `v1`.\u001b[0m\n",
      "  logger.warn(\n"
     ]
    }
   ],
   "source": [
    "import gym\n",
    "env = gym.make(\"CartPole-v0\")"
   ]
  },
  {
   "cell_type": "code",
   "execution_count": 17,
   "metadata": {},
   "outputs": [
    {
     "data": {
      "text/plain": [
       "(array([ 0.03682534,  0.03151668, -0.04959261, -0.02387918], dtype=float32),\n",
       " {})"
      ]
     },
     "execution_count": 17,
     "metadata": {},
     "output_type": "execute_result"
    }
   ],
   "source": [
    "env.reset()"
   ]
  },
  {
   "cell_type": "code",
   "execution_count": 18,
   "metadata": {},
   "outputs": [
    {
     "ename": "ValueError",
     "evalue": "too many values to unpack (expected 4)",
     "output_type": "error",
     "traceback": [
      "\u001b[0;31m---------------------------------------------------------------------------\u001b[0m",
      "\u001b[0;31mValueError\u001b[0m                                Traceback (most recent call last)",
      "\u001b[1;32m/home/slv/openai_gym/testing_files/testingDisplay.ipynb Cell 4\u001b[0m line \u001b[0;36m7\n\u001b[1;32m      <a href='vscode-notebook-cell://ssh-remote%2B45.112.149.250/home/slv/openai_gym/testing_files/testingDisplay.ipynb#W5sdnNjb2RlLXJlbW90ZQ%3D%3D?line=1'>2</a>\u001b[0m env\u001b[39m.\u001b[39mreset()\n\u001b[1;32m      <a href='vscode-notebook-cell://ssh-remote%2B45.112.149.250/home/slv/openai_gym/testing_files/testingDisplay.ipynb#W5sdnNjb2RlLXJlbW90ZQ%3D%3D?line=3'>4</a>\u001b[0m \u001b[39mfor\u001b[39;00m i \u001b[39min\u001b[39;00m \u001b[39mrange\u001b[39m(\u001b[39m20\u001b[39m):\n\u001b[1;32m      <a href='vscode-notebook-cell://ssh-remote%2B45.112.149.250/home/slv/openai_gym/testing_files/testingDisplay.ipynb#W5sdnNjb2RlLXJlbW90ZQ%3D%3D?line=4'>5</a>\u001b[0m \n\u001b[1;32m      <a href='vscode-notebook-cell://ssh-remote%2B45.112.149.250/home/slv/openai_gym/testing_files/testingDisplay.ipynb#W5sdnNjb2RlLXJlbW90ZQ%3D%3D?line=5'>6</a>\u001b[0m   \u001b[39m# env.action_space.sample() produces either 0 (left) or 1 (right).\u001b[39;00m\n\u001b[0;32m----> <a href='vscode-notebook-cell://ssh-remote%2B45.112.149.250/home/slv/openai_gym/testing_files/testingDisplay.ipynb#W5sdnNjb2RlLXJlbW90ZQ%3D%3D?line=6'>7</a>\u001b[0m   observation, reward, done, info \u001b[39m=\u001b[39m env\u001b[39m.\u001b[39mstep(env\u001b[39m.\u001b[39maction_space\u001b[39m.\u001b[39msample())\n\u001b[1;32m      <a href='vscode-notebook-cell://ssh-remote%2B45.112.149.250/home/slv/openai_gym/testing_files/testingDisplay.ipynb#W5sdnNjb2RlLXJlbW90ZQ%3D%3D?line=8'>9</a>\u001b[0m   \u001b[39mprint\u001b[39m(\u001b[39m\"\u001b[39m\u001b[39mstep\u001b[39m\u001b[39m\"\u001b[39m, i, observation, reward, done, info)\n\u001b[1;32m     <a href='vscode-notebook-cell://ssh-remote%2B45.112.149.250/home/slv/openai_gym/testing_files/testingDisplay.ipynb#W5sdnNjb2RlLXJlbW90ZQ%3D%3D?line=10'>11</a>\u001b[0m env\u001b[39m.\u001b[39mclose()\n",
      "\u001b[0;31mValueError\u001b[0m: too many values to unpack (expected 4)"
     ]
    }
   ],
   "source": [
    "# returns an initial observation\n",
    "env.reset()\n",
    "\n",
    "for i in range(20):\n",
    "\n",
    "  # env.action_space.sample() produces either 0 (left) or 1 (right).\n",
    "  observation, reward, done, info = env.step(env.action_space.sample())\n",
    "\n",
    "  print(\"step\", i, observation, reward, done, info)\n",
    "\n",
    "env.close()\n"
   ]
  },
  {
   "cell_type": "code",
   "execution_count": 19,
   "metadata": {},
   "outputs": [],
   "source": [
    "from pyvirtualdisplay import Display\n",
    "display = Display(visible=False, size=(1400, 900))\n",
    "_ = display.start()"
   ]
  },
  {
   "cell_type": "code",
   "execution_count": 9,
   "metadata": {},
   "outputs": [],
   "source": [
    "from gym.wrappers.record_video import RecordVideo"
   ]
  },
  {
   "cell_type": "code",
   "execution_count": 23,
   "metadata": {},
   "outputs": [
    {
     "name": "stdout",
     "output_type": "stream",
     "text": [
      "Moviepy - Building video /home/slv/openai_gym/testing_files/video/rl-video-episode-2.mp4.\n",
      "Moviepy - Writing video /home/slv/openai_gym/testing_files/video/rl-video-episode-2.mp4\n",
      "\n"
     ]
    },
    {
     "name": "stderr",
     "output_type": "stream",
     "text": [
      "                                                  \r"
     ]
    },
    {
     "name": "stdout",
     "output_type": "stream",
     "text": [
      "Moviepy - Done !\n",
      "Moviepy - video ready /home/slv/openai_gym/testing_files/video/rl-video-episode-2.mp4\n",
      "Moviepy - Building video /home/slv/openai_gym/testing_files/video/rl-video-episode-0.mp4.\n",
      "Moviepy - Writing video /home/slv/openai_gym/testing_files/video/rl-video-episode-0.mp4\n",
      "\n"
     ]
    },
    {
     "name": "stderr",
     "output_type": "stream",
     "text": [
      "                                                   "
     ]
    },
    {
     "name": "stdout",
     "output_type": "stream",
     "text": [
      "Moviepy - Done !\n",
      "Moviepy - video ready /home/slv/openai_gym/testing_files/video/rl-video-episode-0.mp4\n"
     ]
    },
    {
     "name": "stderr",
     "output_type": "stream",
     "text": [
      "\r"
     ]
    },
    {
     "data": {
      "text/plain": [
       "(array([ 0.03412809,  0.01040785, -0.01067642,  0.03945946], dtype=float32),\n",
       " {})"
      ]
     },
     "execution_count": 23,
     "metadata": {},
     "output_type": "execute_result"
    }
   ],
   "source": [
    "import gym\n",
    "env = gym.make('CartPole-v1', render_mode=\"rgb_array\")\n",
    "env = RecordVideo(env, './video',  episode_trigger = lambda x:x%2==0)\n",
    "env.reset()\n",
    "for t in range(20000):\n",
    "    action = env.action_space.sample()\n",
    "    observation = env.step(action)\n",
    "\n",
    "#I only one to record this run\n",
    "for t in range(20000):\n",
    "    action = env.action_space.sample()\n",
    "    observation = env.step(action)\n",
    "env.close()\n",
    "env.reset()\n"
   ]
  },
  {
   "cell_type": "code",
   "execution_count": 16,
   "metadata": {},
   "outputs": [
    {
     "data": {
      "text/html": [
       "<video controls  >\n",
       " <source src=\"data:None;base64,testing_files/video/rl-video-episode-1.mp4\" type=\"None\">\n",
       " Your browser does not support the video tag.\n",
       " </video>"
      ],
      "text/plain": [
       "<IPython.core.display.Video object>"
      ]
     },
     "execution_count": 16,
     "metadata": {},
     "output_type": "execute_result"
    }
   ],
   "source": [
    "from IPython.display import Video\n",
    "Video('testing_files/video/rl-video-episode-1.mp4',embed=True)"
   ]
  },
  {
   "cell_type": "code",
   "execution_count": 25,
   "metadata": {},
   "outputs": [
    {
     "ename": "FileNotFoundError",
     "evalue": "[Errno 2] No such file or directory: 'before_training.mp4'",
     "output_type": "error",
     "traceback": [
      "\u001b[0;31m---------------------------------------------------------------------------\u001b[0m",
      "\u001b[0;31mFileNotFoundError\u001b[0m                         Traceback (most recent call last)",
      "\u001b[1;32m/home/slv/openai_gym/testing_files/testingDisplay.ipynb Cell 8\u001b[0m line \u001b[0;36m2\n\u001b[1;32m      <a href='vscode-notebook-cell://ssh-remote%2B45.112.149.250/home/slv/openai_gym/testing_files/testingDisplay.ipynb#X11sdnNjb2RlLXJlbW90ZQ%3D%3D?line=0'>1</a>\u001b[0m \u001b[39mfrom\u001b[39;00m \u001b[39mIPython\u001b[39;00m\u001b[39m.\u001b[39;00m\u001b[39mdisplay\u001b[39;00m \u001b[39mimport\u001b[39;00m HTML\n\u001b[0;32m----> <a href='vscode-notebook-cell://ssh-remote%2B45.112.149.250/home/slv/openai_gym/testing_files/testingDisplay.ipynb#X11sdnNjb2RlLXJlbW90ZQ%3D%3D?line=1'>2</a>\u001b[0m html \u001b[39m=\u001b[39m render_mp4(before_training)\n\u001b[1;32m      <a href='vscode-notebook-cell://ssh-remote%2B45.112.149.250/home/slv/openai_gym/testing_files/testingDisplay.ipynb#X11sdnNjb2RlLXJlbW90ZQ%3D%3D?line=2'>3</a>\u001b[0m HTML(html)\n",
      "\u001b[1;32m/home/slv/openai_gym/testing_files/testingDisplay.ipynb Cell 8\u001b[0m line \u001b[0;36m7\n\u001b[1;32m      <a href='vscode-notebook-cell://ssh-remote%2B45.112.149.250/home/slv/openai_gym/testing_files/testingDisplay.ipynb#X11sdnNjb2RlLXJlbW90ZQ%3D%3D?line=1'>2</a>\u001b[0m \u001b[39mdef\u001b[39;00m \u001b[39mrender_mp4\u001b[39m(videopath: \u001b[39mstr\u001b[39m) \u001b[39m-\u001b[39m\u001b[39m>\u001b[39m \u001b[39mstr\u001b[39m:\n\u001b[1;32m      <a href='vscode-notebook-cell://ssh-remote%2B45.112.149.250/home/slv/openai_gym/testing_files/testingDisplay.ipynb#X11sdnNjb2RlLXJlbW90ZQ%3D%3D?line=2'>3</a>\u001b[0m \u001b[39m  \u001b[39m\u001b[39m\"\"\"\u001b[39;00m\n\u001b[1;32m      <a href='vscode-notebook-cell://ssh-remote%2B45.112.149.250/home/slv/openai_gym/testing_files/testingDisplay.ipynb#X11sdnNjb2RlLXJlbW90ZQ%3D%3D?line=3'>4</a>\u001b[0m \u001b[39m  Gets a string containing a b4-encoded version of the MP4 video\u001b[39;00m\n\u001b[1;32m      <a href='vscode-notebook-cell://ssh-remote%2B45.112.149.250/home/slv/openai_gym/testing_files/testingDisplay.ipynb#X11sdnNjb2RlLXJlbW90ZQ%3D%3D?line=4'>5</a>\u001b[0m \u001b[39m  at the specified path.\u001b[39;00m\n\u001b[1;32m      <a href='vscode-notebook-cell://ssh-remote%2B45.112.149.250/home/slv/openai_gym/testing_files/testingDisplay.ipynb#X11sdnNjb2RlLXJlbW90ZQ%3D%3D?line=5'>6</a>\u001b[0m \u001b[39m  \"\"\"\u001b[39;00m\n\u001b[0;32m----> <a href='vscode-notebook-cell://ssh-remote%2B45.112.149.250/home/slv/openai_gym/testing_files/testingDisplay.ipynb#X11sdnNjb2RlLXJlbW90ZQ%3D%3D?line=6'>7</a>\u001b[0m   mp4 \u001b[39m=\u001b[39m \u001b[39mopen\u001b[39;49m(videopath, \u001b[39m'\u001b[39;49m\u001b[39mrb\u001b[39;49m\u001b[39m'\u001b[39;49m)\u001b[39m.\u001b[39mread()\n\u001b[1;32m      <a href='vscode-notebook-cell://ssh-remote%2B45.112.149.250/home/slv/openai_gym/testing_files/testingDisplay.ipynb#X11sdnNjb2RlLXJlbW90ZQ%3D%3D?line=7'>8</a>\u001b[0m   base64_encoded_mp4 \u001b[39m=\u001b[39m b64encode(mp4)\u001b[39m.\u001b[39mdecode()\n\u001b[1;32m      <a href='vscode-notebook-cell://ssh-remote%2B45.112.149.250/home/slv/openai_gym/testing_files/testingDisplay.ipynb#X11sdnNjb2RlLXJlbW90ZQ%3D%3D?line=8'>9</a>\u001b[0m   \u001b[39mreturn\u001b[39;00m \u001b[39mf\u001b[39m\u001b[39m'\u001b[39m\u001b[39m<video width=400 controls><source src=\u001b[39m\u001b[39m\"\u001b[39m\u001b[39mdata:video/mp4;\u001b[39m\u001b[39m'\u001b[39m \\\n\u001b[1;32m     <a href='vscode-notebook-cell://ssh-remote%2B45.112.149.250/home/slv/openai_gym/testing_files/testingDisplay.ipynb#X11sdnNjb2RlLXJlbW90ZQ%3D%3D?line=9'>10</a>\u001b[0m          \u001b[39mf\u001b[39m\u001b[39m'\u001b[39m\u001b[39mbase64,\u001b[39m\u001b[39m{\u001b[39;00mbase64_encoded_mp4\u001b[39m}\u001b[39;00m\u001b[39m\"\u001b[39m\u001b[39m type=\u001b[39m\u001b[39m\"\u001b[39m\u001b[39mvideo/mp4\u001b[39m\u001b[39m\"\u001b[39m\u001b[39m></video>\u001b[39m\u001b[39m'\u001b[39m\n",
      "File \u001b[0;32m~/anaconda3/envs/openai/lib/python3.12/site-packages/IPython/core/interactiveshell.py:310\u001b[0m, in \u001b[0;36m_modified_open\u001b[0;34m(file, *args, **kwargs)\u001b[0m\n\u001b[1;32m    303\u001b[0m \u001b[39mif\u001b[39;00m file \u001b[39min\u001b[39;00m {\u001b[39m0\u001b[39m, \u001b[39m1\u001b[39m, \u001b[39m2\u001b[39m}:\n\u001b[1;32m    304\u001b[0m     \u001b[39mraise\u001b[39;00m \u001b[39mValueError\u001b[39;00m(\n\u001b[1;32m    305\u001b[0m         \u001b[39mf\u001b[39m\u001b[39m\"\u001b[39m\u001b[39mIPython won\u001b[39m\u001b[39m'\u001b[39m\u001b[39mt let you open fd=\u001b[39m\u001b[39m{\u001b[39;00mfile\u001b[39m}\u001b[39;00m\u001b[39m by default \u001b[39m\u001b[39m\"\u001b[39m\n\u001b[1;32m    306\u001b[0m         \u001b[39m\"\u001b[39m\u001b[39mas it is likely to crash IPython. If you know what you are doing, \u001b[39m\u001b[39m\"\u001b[39m\n\u001b[1;32m    307\u001b[0m         \u001b[39m\"\u001b[39m\u001b[39myou can use builtins\u001b[39m\u001b[39m'\u001b[39m\u001b[39m open.\u001b[39m\u001b[39m\"\u001b[39m\n\u001b[1;32m    308\u001b[0m     )\n\u001b[0;32m--> 310\u001b[0m \u001b[39mreturn\u001b[39;00m io_open(file, \u001b[39m*\u001b[39;49margs, \u001b[39m*\u001b[39;49m\u001b[39m*\u001b[39;49mkwargs)\n",
      "\u001b[0;31mFileNotFoundError\u001b[0m: [Errno 2] No such file or directory: 'before_training.mp4'"
     ]
    }
   ],
   "source": []
  }
 ],
 "metadata": {
  "kernelspec": {
   "display_name": "openai",
   "language": "python",
   "name": "python3"
  },
  "language_info": {
   "codemirror_mode": {
    "name": "ipython",
    "version": 3
   },
   "file_extension": ".py",
   "mimetype": "text/x-python",
   "name": "python",
   "nbconvert_exporter": "python",
   "pygments_lexer": "ipython3",
   "version": "3.10.13"
  }
 },
 "nbformat": 4,
 "nbformat_minor": 2
}
